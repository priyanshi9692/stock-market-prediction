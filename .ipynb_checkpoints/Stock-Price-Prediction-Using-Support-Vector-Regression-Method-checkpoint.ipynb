{
 "cells": [
  {
   "cell_type": "code",
   "execution_count": 1,
   "metadata": {},
   "outputs": [],
   "source": [
    "import requests\n",
    "import json\n",
    "import csv\n",
    "import numpy as np\n",
    "import pandas as pd"
   ]
  },
  {
   "cell_type": "code",
   "execution_count": 2,
   "metadata": {},
   "outputs": [
    {
     "name": "stdout",
     "output_type": "stream",
     "text": [
      "<Response [200]>\n"
     ]
    },
    {
     "data": {
      "text/html": [
       "<div>\n",
       "<style scoped>\n",
       "    .dataframe tbody tr th:only-of-type {\n",
       "        vertical-align: middle;\n",
       "    }\n",
       "\n",
       "    .dataframe tbody tr th {\n",
       "        vertical-align: top;\n",
       "    }\n",
       "\n",
       "    .dataframe thead th {\n",
       "        text-align: right;\n",
       "    }\n",
       "</style>\n",
       "<table border=\"1\" class=\"dataframe\">\n",
       "  <thead>\n",
       "    <tr style=\"text-align: right;\">\n",
       "      <th></th>\n",
       "      <th>timestamp</th>\n",
       "      <th>open</th>\n",
       "      <th>high</th>\n",
       "      <th>low</th>\n",
       "      <th>close</th>\n",
       "      <th>volume</th>\n",
       "    </tr>\n",
       "  </thead>\n",
       "  <tbody>\n",
       "    <tr>\n",
       "      <th>1</th>\n",
       "      <td>2020-04-24</td>\n",
       "      <td>338.0000</td>\n",
       "      <td>344.7000</td>\n",
       "      <td>333.5011</td>\n",
       "      <td>344.1000</td>\n",
       "      <td>2127690</td>\n",
       "    </tr>\n",
       "    <tr>\n",
       "      <th>2</th>\n",
       "      <td>2020-04-23</td>\n",
       "      <td>338.9000</td>\n",
       "      <td>341.7500</td>\n",
       "      <td>334.8000</td>\n",
       "      <td>335.3700</td>\n",
       "      <td>2120251</td>\n",
       "    </tr>\n",
       "    <tr>\n",
       "      <th>3</th>\n",
       "      <td>2020-04-22</td>\n",
       "      <td>337.4100</td>\n",
       "      <td>339.3800</td>\n",
       "      <td>332.8006</td>\n",
       "      <td>336.7700</td>\n",
       "      <td>2231819</td>\n",
       "    </tr>\n",
       "    <tr>\n",
       "      <th>4</th>\n",
       "      <td>2020-04-21</td>\n",
       "      <td>340.9000</td>\n",
       "      <td>342.7630</td>\n",
       "      <td>325.2100</td>\n",
       "      <td>328.9900</td>\n",
       "      <td>3548202</td>\n",
       "    </tr>\n",
       "    <tr>\n",
       "      <th>5</th>\n",
       "      <td>2020-04-20</td>\n",
       "      <td>340.7900</td>\n",
       "      <td>348.5000</td>\n",
       "      <td>338.7500</td>\n",
       "      <td>344.8800</td>\n",
       "      <td>2771970</td>\n",
       "    </tr>\n",
       "    <tr>\n",
       "      <th>...</th>\n",
       "      <td>...</td>\n",
       "      <td>...</td>\n",
       "      <td>...</td>\n",
       "      <td>...</td>\n",
       "      <td>...</td>\n",
       "      <td>...</td>\n",
       "    </tr>\n",
       "    <tr>\n",
       "      <th>5029</th>\n",
       "      <td>2000-04-28</td>\n",
       "      <td>124.8000</td>\n",
       "      <td>127.9000</td>\n",
       "      <td>118.0000</td>\n",
       "      <td>120.9000</td>\n",
       "      <td>2832200</td>\n",
       "    </tr>\n",
       "    <tr>\n",
       "      <th>5030</th>\n",
       "      <td>2000-04-27</td>\n",
       "      <td>108.1000</td>\n",
       "      <td>124.5000</td>\n",
       "      <td>107.0000</td>\n",
       "      <td>123.4000</td>\n",
       "      <td>2784800</td>\n",
       "    </tr>\n",
       "    <tr>\n",
       "      <th>5031</th>\n",
       "      <td>2000-04-26</td>\n",
       "      <td>118.6000</td>\n",
       "      <td>120.8000</td>\n",
       "      <td>112.3000</td>\n",
       "      <td>114.9000</td>\n",
       "      <td>2502200</td>\n",
       "    </tr>\n",
       "    <tr>\n",
       "      <th>5032</th>\n",
       "      <td>2000-04-25</td>\n",
       "      <td>106.8000</td>\n",
       "      <td>121.5000</td>\n",
       "      <td>104.0000</td>\n",
       "      <td>120.0000</td>\n",
       "      <td>3565400</td>\n",
       "    </tr>\n",
       "    <tr>\n",
       "      <th>5033</th>\n",
       "      <td>2000-04-24</td>\n",
       "      <td>107.7000</td>\n",
       "      <td>112.0000</td>\n",
       "      <td>97.0000</td>\n",
       "      <td>104.8000</td>\n",
       "      <td>2258700</td>\n",
       "    </tr>\n",
       "  </tbody>\n",
       "</table>\n",
       "<p>5033 rows × 6 columns</p>\n",
       "</div>"
      ],
      "text/plain": [
       "0      timestamp      open      high       low     close   volume\n",
       "1     2020-04-24  338.0000  344.7000  333.5011  344.1000  2127690\n",
       "2     2020-04-23  338.9000  341.7500  334.8000  335.3700  2120251\n",
       "3     2020-04-22  337.4100  339.3800  332.8006  336.7700  2231819\n",
       "4     2020-04-21  340.9000  342.7630  325.2100  328.9900  3548202\n",
       "5     2020-04-20  340.7900  348.5000  338.7500  344.8800  2771970\n",
       "...          ...       ...       ...       ...       ...      ...\n",
       "5029  2000-04-28  124.8000  127.9000  118.0000  120.9000  2832200\n",
       "5030  2000-04-27  108.1000  124.5000  107.0000  123.4000  2784800\n",
       "5031  2000-04-26  118.6000  120.8000  112.3000  114.9000  2502200\n",
       "5032  2000-04-25  106.8000  121.5000  104.0000  120.0000  3565400\n",
       "5033  2000-04-24  107.7000  112.0000   97.0000  104.8000  2258700\n",
       "\n",
       "[5033 rows x 6 columns]"
      ]
     },
     "execution_count": 2,
     "metadata": {},
     "output_type": "execute_result"
    }
   ],
   "source": [
    "# Collecting stock data of Adobe using Alpha Vantage API\n",
    "CSV_URL =\"https://www.alphavantage.co/query?function=TIME_SERIES_DAILY&symbol=ADBE&apikey=NR8HXOOB06DUO2M3&datatype=csv&outputsize=full\"\n",
    "with requests.Session() as s:\n",
    "    download = s.get(CSV_URL)\n",
    "    print(download)\n",
    "    decoded_content = download.content.decode('utf-8')\n",
    "\n",
    "    cr = csv.reader(decoded_content.splitlines(), delimiter=',')\n",
    "    df = pd.DataFrame(cr)\n",
    "df\n",
    "new_header = df.iloc[0] #grab the first row for the header\n",
    "df = df[1:] #take the data less the header row\n",
    "df.columns = new_header\n",
    "df"
   ]
  },
  {
   "cell_type": "code",
   "execution_count": 3,
   "metadata": {},
   "outputs": [
    {
     "name": "stdout",
     "output_type": "stream",
     "text": [
      "0\n",
      "timestamp    object\n",
      "open         object\n",
      "high         object\n",
      "low          object\n",
      "close        object\n",
      "volume       object\n",
      "dtype: object\n"
     ]
    }
   ],
   "source": [
    "# Data Type of the columns\n",
    "dataTypeOfColumns = df.dtypes\n",
    "print(dataTypeOfColumns)"
   ]
  },
  {
   "cell_type": "code",
   "execution_count": 4,
   "metadata": {},
   "outputs": [
    {
     "name": "stdout",
     "output_type": "stream",
     "text": [
      "timestamp - True\n",
      "open - False\n",
      "high - False\n",
      "low - False\n",
      "close - False\n",
      "volume - False\n"
     ]
    }
   ],
   "source": [
    "# Checking if columns are unique column\n",
    "columns = list(df)\n",
    "for i in columns:\n",
    "    print(i , \"-\", df[i].nunique() == df[i].count())"
   ]
  },
  {
   "cell_type": "code",
   "execution_count": 5,
   "metadata": {},
   "outputs": [
    {
     "data": {
      "text/plain": [
       "False"
      ]
     },
     "execution_count": 5,
     "metadata": {},
     "output_type": "execute_result"
    }
   ],
   "source": [
    "# Finding if there is any NaN value\n",
    "df.isnull().values.any()"
   ]
  },
  {
   "cell_type": "code",
   "execution_count": 6,
   "metadata": {},
   "outputs": [
    {
     "data": {
      "text/plain": [
       "0\n",
       "timestamp    datetime64[ns]\n",
       "open                float64\n",
       "high                float64\n",
       "low                 float64\n",
       "close               float64\n",
       "volume                int64\n",
       "dtype: object"
      ]
     },
     "execution_count": 6,
     "metadata": {},
     "output_type": "execute_result"
    }
   ],
   "source": [
    "# Updating Datatypes of the columns\n",
    "df['timestamp'] = pd.to_datetime(df['timestamp'])\n",
    "df.open=df.open.astype(float)\n",
    "df.high=df.high.astype(float)\n",
    "df.low=df.low.astype(float)\n",
    "df.close=df.close.astype(float)\n",
    "df.volume=df.volume.astype(int)\n",
    "df.dtypes"
   ]
  },
  {
   "cell_type": "code",
   "execution_count": 7,
   "metadata": {},
   "outputs": [
    {
     "data": {
      "text/html": [
       "<div>\n",
       "<style scoped>\n",
       "    .dataframe tbody tr th:only-of-type {\n",
       "        vertical-align: middle;\n",
       "    }\n",
       "\n",
       "    .dataframe tbody tr th {\n",
       "        vertical-align: top;\n",
       "    }\n",
       "\n",
       "    .dataframe thead th {\n",
       "        text-align: right;\n",
       "    }\n",
       "</style>\n",
       "<table border=\"1\" class=\"dataframe\">\n",
       "  <thead>\n",
       "    <tr style=\"text-align: right;\">\n",
       "      <th></th>\n",
       "      <th>timestamp</th>\n",
       "      <th>open</th>\n",
       "      <th>high</th>\n",
       "      <th>low</th>\n",
       "      <th>close</th>\n",
       "      <th>volume</th>\n",
       "      <th>average_value</th>\n",
       "    </tr>\n",
       "  </thead>\n",
       "  <tbody>\n",
       "    <tr>\n",
       "      <th>1</th>\n",
       "      <td>2020-04-24</td>\n",
       "      <td>338.00</td>\n",
       "      <td>344.700</td>\n",
       "      <td>333.5011</td>\n",
       "      <td>344.10</td>\n",
       "      <td>2127690</td>\n",
       "      <td>339.10055</td>\n",
       "    </tr>\n",
       "    <tr>\n",
       "      <th>2</th>\n",
       "      <td>2020-04-23</td>\n",
       "      <td>338.90</td>\n",
       "      <td>341.750</td>\n",
       "      <td>334.8000</td>\n",
       "      <td>335.37</td>\n",
       "      <td>2120251</td>\n",
       "      <td>338.27500</td>\n",
       "    </tr>\n",
       "    <tr>\n",
       "      <th>3</th>\n",
       "      <td>2020-04-22</td>\n",
       "      <td>337.41</td>\n",
       "      <td>339.380</td>\n",
       "      <td>332.8006</td>\n",
       "      <td>336.77</td>\n",
       "      <td>2231819</td>\n",
       "      <td>336.09030</td>\n",
       "    </tr>\n",
       "    <tr>\n",
       "      <th>4</th>\n",
       "      <td>2020-04-21</td>\n",
       "      <td>340.90</td>\n",
       "      <td>342.763</td>\n",
       "      <td>325.2100</td>\n",
       "      <td>328.99</td>\n",
       "      <td>3548202</td>\n",
       "      <td>333.98650</td>\n",
       "    </tr>\n",
       "    <tr>\n",
       "      <th>5</th>\n",
       "      <td>2020-04-20</td>\n",
       "      <td>340.79</td>\n",
       "      <td>348.500</td>\n",
       "      <td>338.7500</td>\n",
       "      <td>344.88</td>\n",
       "      <td>2771970</td>\n",
       "      <td>343.62500</td>\n",
       "    </tr>\n",
       "    <tr>\n",
       "      <th>...</th>\n",
       "      <td>...</td>\n",
       "      <td>...</td>\n",
       "      <td>...</td>\n",
       "      <td>...</td>\n",
       "      <td>...</td>\n",
       "      <td>...</td>\n",
       "      <td>...</td>\n",
       "    </tr>\n",
       "    <tr>\n",
       "      <th>5029</th>\n",
       "      <td>2000-04-28</td>\n",
       "      <td>124.80</td>\n",
       "      <td>127.900</td>\n",
       "      <td>118.0000</td>\n",
       "      <td>120.90</td>\n",
       "      <td>2832200</td>\n",
       "      <td>122.95000</td>\n",
       "    </tr>\n",
       "    <tr>\n",
       "      <th>5030</th>\n",
       "      <td>2000-04-27</td>\n",
       "      <td>108.10</td>\n",
       "      <td>124.500</td>\n",
       "      <td>107.0000</td>\n",
       "      <td>123.40</td>\n",
       "      <td>2784800</td>\n",
       "      <td>115.75000</td>\n",
       "    </tr>\n",
       "    <tr>\n",
       "      <th>5031</th>\n",
       "      <td>2000-04-26</td>\n",
       "      <td>118.60</td>\n",
       "      <td>120.800</td>\n",
       "      <td>112.3000</td>\n",
       "      <td>114.90</td>\n",
       "      <td>2502200</td>\n",
       "      <td>116.55000</td>\n",
       "    </tr>\n",
       "    <tr>\n",
       "      <th>5032</th>\n",
       "      <td>2000-04-25</td>\n",
       "      <td>106.80</td>\n",
       "      <td>121.500</td>\n",
       "      <td>104.0000</td>\n",
       "      <td>120.00</td>\n",
       "      <td>3565400</td>\n",
       "      <td>112.75000</td>\n",
       "    </tr>\n",
       "    <tr>\n",
       "      <th>5033</th>\n",
       "      <td>2000-04-24</td>\n",
       "      <td>107.70</td>\n",
       "      <td>112.000</td>\n",
       "      <td>97.0000</td>\n",
       "      <td>104.80</td>\n",
       "      <td>2258700</td>\n",
       "      <td>104.50000</td>\n",
       "    </tr>\n",
       "  </tbody>\n",
       "</table>\n",
       "<p>5033 rows × 7 columns</p>\n",
       "</div>"
      ],
      "text/plain": [
       "0     timestamp    open     high       low   close   volume  average_value\n",
       "1    2020-04-24  338.00  344.700  333.5011  344.10  2127690      339.10055\n",
       "2    2020-04-23  338.90  341.750  334.8000  335.37  2120251      338.27500\n",
       "3    2020-04-22  337.41  339.380  332.8006  336.77  2231819      336.09030\n",
       "4    2020-04-21  340.90  342.763  325.2100  328.99  3548202      333.98650\n",
       "5    2020-04-20  340.79  348.500  338.7500  344.88  2771970      343.62500\n",
       "...         ...     ...      ...       ...     ...      ...            ...\n",
       "5029 2000-04-28  124.80  127.900  118.0000  120.90  2832200      122.95000\n",
       "5030 2000-04-27  108.10  124.500  107.0000  123.40  2784800      115.75000\n",
       "5031 2000-04-26  118.60  120.800  112.3000  114.90  2502200      116.55000\n",
       "5032 2000-04-25  106.80  121.500  104.0000  120.00  3565400      112.75000\n",
       "5033 2000-04-24  107.70  112.000   97.0000  104.80  2258700      104.50000\n",
       "\n",
       "[5033 rows x 7 columns]"
      ]
     },
     "execution_count": 7,
     "metadata": {},
     "output_type": "execute_result"
    }
   ],
   "source": [
    "df['average_value'] = df[['high', 'low']].mean(axis=1)\n",
    "df"
   ]
  },
  {
   "cell_type": "code",
   "execution_count": 8,
   "metadata": {},
   "outputs": [
    {
     "data": {
      "text/html": [
       "<div>\n",
       "<style scoped>\n",
       "    .dataframe tbody tr th:only-of-type {\n",
       "        vertical-align: middle;\n",
       "    }\n",
       "\n",
       "    .dataframe tbody tr th {\n",
       "        vertical-align: top;\n",
       "    }\n",
       "\n",
       "    .dataframe thead th {\n",
       "        text-align: right;\n",
       "    }\n",
       "</style>\n",
       "<table border=\"1\" class=\"dataframe\">\n",
       "  <thead>\n",
       "    <tr style=\"text-align: right;\">\n",
       "      <th></th>\n",
       "      <th>timestamp</th>\n",
       "      <th>open</th>\n",
       "      <th>high</th>\n",
       "      <th>average_value</th>\n",
       "      <th>low</th>\n",
       "      <th>close</th>\n",
       "      <th>volume</th>\n",
       "    </tr>\n",
       "  </thead>\n",
       "  <tbody>\n",
       "    <tr>\n",
       "      <th>1</th>\n",
       "      <td>2020-04-24</td>\n",
       "      <td>338.00</td>\n",
       "      <td>344.700</td>\n",
       "      <td>339.10055</td>\n",
       "      <td>333.5011</td>\n",
       "      <td>344.10</td>\n",
       "      <td>2127690</td>\n",
       "    </tr>\n",
       "    <tr>\n",
       "      <th>2</th>\n",
       "      <td>2020-04-23</td>\n",
       "      <td>338.90</td>\n",
       "      <td>341.750</td>\n",
       "      <td>338.27500</td>\n",
       "      <td>334.8000</td>\n",
       "      <td>335.37</td>\n",
       "      <td>2120251</td>\n",
       "    </tr>\n",
       "    <tr>\n",
       "      <th>3</th>\n",
       "      <td>2020-04-22</td>\n",
       "      <td>337.41</td>\n",
       "      <td>339.380</td>\n",
       "      <td>336.09030</td>\n",
       "      <td>332.8006</td>\n",
       "      <td>336.77</td>\n",
       "      <td>2231819</td>\n",
       "    </tr>\n",
       "    <tr>\n",
       "      <th>4</th>\n",
       "      <td>2020-04-21</td>\n",
       "      <td>340.90</td>\n",
       "      <td>342.763</td>\n",
       "      <td>333.98650</td>\n",
       "      <td>325.2100</td>\n",
       "      <td>328.99</td>\n",
       "      <td>3548202</td>\n",
       "    </tr>\n",
       "    <tr>\n",
       "      <th>5</th>\n",
       "      <td>2020-04-20</td>\n",
       "      <td>340.79</td>\n",
       "      <td>348.500</td>\n",
       "      <td>343.62500</td>\n",
       "      <td>338.7500</td>\n",
       "      <td>344.88</td>\n",
       "      <td>2771970</td>\n",
       "    </tr>\n",
       "    <tr>\n",
       "      <th>...</th>\n",
       "      <td>...</td>\n",
       "      <td>...</td>\n",
       "      <td>...</td>\n",
       "      <td>...</td>\n",
       "      <td>...</td>\n",
       "      <td>...</td>\n",
       "      <td>...</td>\n",
       "    </tr>\n",
       "    <tr>\n",
       "      <th>5029</th>\n",
       "      <td>2000-04-28</td>\n",
       "      <td>124.80</td>\n",
       "      <td>127.900</td>\n",
       "      <td>122.95000</td>\n",
       "      <td>118.0000</td>\n",
       "      <td>120.90</td>\n",
       "      <td>2832200</td>\n",
       "    </tr>\n",
       "    <tr>\n",
       "      <th>5030</th>\n",
       "      <td>2000-04-27</td>\n",
       "      <td>108.10</td>\n",
       "      <td>124.500</td>\n",
       "      <td>115.75000</td>\n",
       "      <td>107.0000</td>\n",
       "      <td>123.40</td>\n",
       "      <td>2784800</td>\n",
       "    </tr>\n",
       "    <tr>\n",
       "      <th>5031</th>\n",
       "      <td>2000-04-26</td>\n",
       "      <td>118.60</td>\n",
       "      <td>120.800</td>\n",
       "      <td>116.55000</td>\n",
       "      <td>112.3000</td>\n",
       "      <td>114.90</td>\n",
       "      <td>2502200</td>\n",
       "    </tr>\n",
       "    <tr>\n",
       "      <th>5032</th>\n",
       "      <td>2000-04-25</td>\n",
       "      <td>106.80</td>\n",
       "      <td>121.500</td>\n",
       "      <td>112.75000</td>\n",
       "      <td>104.0000</td>\n",
       "      <td>120.00</td>\n",
       "      <td>3565400</td>\n",
       "    </tr>\n",
       "    <tr>\n",
       "      <th>5033</th>\n",
       "      <td>2000-04-24</td>\n",
       "      <td>107.70</td>\n",
       "      <td>112.000</td>\n",
       "      <td>104.50000</td>\n",
       "      <td>97.0000</td>\n",
       "      <td>104.80</td>\n",
       "      <td>2258700</td>\n",
       "    </tr>\n",
       "  </tbody>\n",
       "</table>\n",
       "<p>5033 rows × 7 columns</p>\n",
       "</div>"
      ],
      "text/plain": [
       "0     timestamp    open     high  average_value       low   close   volume\n",
       "1    2020-04-24  338.00  344.700      339.10055  333.5011  344.10  2127690\n",
       "2    2020-04-23  338.90  341.750      338.27500  334.8000  335.37  2120251\n",
       "3    2020-04-22  337.41  339.380      336.09030  332.8006  336.77  2231819\n",
       "4    2020-04-21  340.90  342.763      333.98650  325.2100  328.99  3548202\n",
       "5    2020-04-20  340.79  348.500      343.62500  338.7500  344.88  2771970\n",
       "...         ...     ...      ...            ...       ...     ...      ...\n",
       "5029 2000-04-28  124.80  127.900      122.95000  118.0000  120.90  2832200\n",
       "5030 2000-04-27  108.10  124.500      115.75000  107.0000  123.40  2784800\n",
       "5031 2000-04-26  118.60  120.800      116.55000  112.3000  114.90  2502200\n",
       "5032 2000-04-25  106.80  121.500      112.75000  104.0000  120.00  3565400\n",
       "5033 2000-04-24  107.70  112.000      104.50000   97.0000  104.80  2258700\n",
       "\n",
       "[5033 rows x 7 columns]"
      ]
     },
     "execution_count": 8,
     "metadata": {},
     "output_type": "execute_result"
    }
   ],
   "source": [
    "# Rearranging Columns\n",
    "column_titles = ['timestamp','open','high','average_value','low','close','volume']\n",
    "df.reindex(columns = column_titles)"
   ]
  },
  {
   "cell_type": "code",
   "execution_count": 30,
   "metadata": {},
   "outputs": [
    {
     "data": {
      "image/png": "[encoded data removed]",
      "text/plain": [
       "<Figure size 432x288 with 1 Axes>"
      ]
     },
     "metadata": {
      "needs_background": "light"
     },
     "output_type": "display_data"
    }
   ],
   "source": [
    "import matplotlib.pyplot as plt\n",
    "\n",
    "df_updated = df.head(20)\n",
    "df_updated.plot(kind='line',x = \"timestamp\",y = \"volume\")\n",
    "plt.title('Timestamp v/s Volume curve')\n",
    "plt.xlabel('TIMESTAMP')\n",
    "plt.ylabel('STOCK VOLUME')\n",
    "plt.show()"
   ]
  },
  {
   "cell_type": "code",
   "execution_count": 10,
   "metadata": {},
   "outputs": [
    {
     "data": {
      "image/png": "[encoded data removed]",
      "text/plain": [
       "<Figure size 432x288 with 1 Axes>"
      ]
     },
     "metadata": {
      "needs_background": "light"
     },
     "output_type": "display_data"
    }
   ],
   "source": [
    "import matplotlib.pyplot as plt\n",
    "\n",
    "df_updated = df.head(30)\n",
    "\n",
    "df_updated.plot(kind='bar',x = \"timestamp\",y = \"close\")\n",
    "plt.title('Timestamp v/s close value')\n",
    "plt.xlabel('TIMESTAMP')\n",
    "plt.ylabel('CLOSE VALUE')\n",
    "plt.show()\n"
   ]
  },
  {
   "cell_type": "code",
   "execution_count": 86,
   "metadata": {},
   "outputs": [
    {
     "data": {
      "image/png": "[encoded data removed]",
      "text/plain": [
       "<Figure size 432x288 with 1 Axes>"
      ]
     },
     "metadata": {
      "needs_background": "light"
     },
     "output_type": "display_data"
    }
   ],
   "source": [
    "df_updated = df.head(14)\n",
    "df_updated.plot(kind='line',x = \"timestamp\",y = \"close\")\n",
    "plt.title('Timestamp v/s close')\n",
    "plt.xlabel('TIMESTAMP')\n",
    "plt.ylabel('CLOSE')\n",
    "plt.show()"
   ]
  },
  {
   "cell_type": "code",
   "execution_count": 87,
   "metadata": {},
   "outputs": [],
   "source": [
    "# importing dependencies\n",
    "from sklearn.svm import SVR \n",
    "%matplotlib inline"
   ]
  },
  {
   "cell_type": "code",
   "execution_count": 88,
   "metadata": {},
   "outputs": [
    {
     "name": "stderr",
     "output_type": "stream",
     "text": [
      "/usr/local/lib/python3.7/site-packages/pandas/core/generic.py:5303: SettingWithCopyWarning: \n",
      "A value is trying to be set on a copy of a slice from a DataFrame.\n",
      "Try using .loc[row_indexer,col_indexer] = value instead\n",
      "\n",
      "See the caveats in the documentation: https://pandas.pydata.org/pandas-docs/stable/user_guide/indexing.html#returning-a-view-versus-a-copy\n",
      "  self[name] = value\n"
     ]
    }
   ],
   "source": [
    "# Get data function\n",
    "def get_data(df):  \n",
    "    df.timestamp = df.timestamp.astype(str)\n",
    "    data = df.copy()\n",
    "    data['timestamp'] = data['timestamp'].str.split('-').str[2]\n",
    "    data['timestamp'] = pd.to_numeric(data['timestamp'])\n",
    "    return [ data['timestamp'].tolist(), data['close'].tolist() ] \n",
    "# Convert Series to list\n",
    "dates, prices = get_data(df_updated)"
   ]
  },
  {
   "cell_type": "code",
   "execution_count": 89,
   "metadata": {},
   "outputs": [],
   "source": [
    "# Use three models: linear, polynomial and radial basic function (default kernal for SVR)\n",
    "def predict_prices(dates, prices, x):\n",
    "    dates = np.reshape(dates,(len(dates), 1)) # convert to 1xn dimension\n",
    "    x = np.reshape(x,(len(x), 1))\n",
    "    \n",
    "    svr_lin  = SVR(kernel='linear', C=1e3)\n",
    "    svr_poly = SVR(kernel='poly', C=1e3, degree=4)\n",
    "    svr_rbf = SVR(kernel='rbf', C=1e3, gamma=0.5)\n",
    "    \n",
    "    # Fit regression model\n",
    "    svr_lin.fit(dates, prices)\n",
    "    svr_poly.fit(dates, prices)\n",
    "    svr_rbf.fit(dates, prices)\n",
    "    \n",
    "    plt.scatter(dates, prices, c='k', label='Data')\n",
    "    plt.plot(dates, svr_lin.predict(dates), c='g', label='Linear model')\n",
    "    plt.plot(dates, svr_rbf.predict(dates), c='r', label='RBF model')    \n",
    "    plt.plot(dates, svr_poly.predict(dates), c='b', label='Polynomial model')\n",
    "    \n",
    "    plt.xlabel('Date')\n",
    "    plt.ylabel('Price')\n",
    "    plt.title('Support Vector Regression')\n",
    "    plt.legend()\n",
    "    plt.show()\n",
    "    \n",
    "    return svr_rbf.predict(x)[0], svr_lin.predict(x)[0], svr_poly.predict(x)[0]"
   ]
  },
  {
   "cell_type": "code",
   "execution_count": 90,
   "metadata": {},
   "outputs": [
    {
     "data": {
      "image/png": "[encoded data removed]",
      "text/plain": [
       "<Figure size 432x288 with 1 Axes>"
      ]
     },
     "metadata": {
      "needs_background": "light"
     },
     "output_type": "display_data"
    },
    {
     "name": "stdout",
     "output_type": "stream",
     "text": [
      "(331.4677429773775, 350.6799999998769, 362.7755828361249)\n"
     ]
    }
   ],
   "source": [
    "predicted_price = predict_prices(dates, prices, [28])\n",
    "print(predicted_price)"
   ]
  },
  {
   "cell_type": "code",
   "execution_count": 91,
   "metadata": {},
   "outputs": [
    {
     "name": "stdout",
     "output_type": "stream",
     "text": [
      "[331.4677429773775, 350.6799999998769, 362.7755828361249]\n"
     ]
    }
   ],
   "source": [
    "predicted_price = list(predicted_price)\n",
    "print(predicted_price)"
   ]
  },
  {
   "cell_type": "code",
   "execution_count": 92,
   "metadata": {},
   "outputs": [
    {
     "name": "stdout",
     "output_type": "stream",
     "text": [
      "159.5739174855961\n",
      "12.632257022622525\n"
     ]
    }
   ],
   "source": [
    "# Calculating Root Mean Square Error\n",
    "from sklearn.metrics import mean_squared_error\n",
    "from math import sqrt\n",
    "actual_value = df['close'].at[1]\n",
    "type(actual_value)\n",
    "actual_value = actual_value.item()\n",
    "# Actual Value on Day 24\n",
    "print('Actual Value: ' actual_value)\n",
    "# Predicted_Value from Linear Regression model\n",
    "predicted_value=predicted_price[0]\n",
    "print('Predicted value from Linear Regression Model: ' predicted value)\n",
    "actual_value1 = []\n",
    "actual_value1.append(actual_value)\n",
    "predicted_value1 = []\n",
    "predicted_value1.append(predicted_value)\n",
    "# Mean Square Error\n",
    "mse = mean_squared_error(actual_value1, predicted_value1)\n",
    "rmse = sqrt(mse)\n",
    "print(\"Root Mean Square Error value: \" rmse)"
   ]
  },
  {
   "cell_type": "code",
   "execution_count": null,
   "metadata": {},
   "outputs": [],
   "source": []
  },
  {
   "cell_type": "code",
   "execution_count": null,
   "metadata": {},
   "outputs": [],
   "source": []
  }
 ],
 "metadata": {
  "kernelspec": {
   "display_name": "Python 3",
   "language": "python",
   "name": "python3"
  },
  "language_info": {
   "codemirror_mode": {
    "name": "ipython",
    "version": 3
   },
   "file_extension": ".py",
   "mimetype": "text/x-python",
   "name": "python",
   "nbconvert_exporter": "python",
   "pygments_lexer": "ipython3",
   "version": "3.7.7"
  }
 },
 "nbformat": 4,
 "nbformat_minor": 4
}
