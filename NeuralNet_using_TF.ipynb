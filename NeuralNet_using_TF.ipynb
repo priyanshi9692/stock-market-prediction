{
 "cells": [
  {
   "cell_type": "markdown",
   "metadata": {},
   "source": [
    "# 1. Import the dataset"
   ]
  },
  {
   "cell_type": "code",
   "execution_count": 50,
   "metadata": {},
   "outputs": [],
   "source": [
    "# import all the required libraries to import dataset\n",
    "\n",
    "import requests\n",
    "import json\n",
    "import csv\n",
    "import pandas as pd\n",
    "import numpy as np\n",
    "import matplotlib.pyplot as plt\n",
    "from sklearn.preprocessing import MinMaxScaler"
   ]
  },
  {
   "cell_type": "code",
   "execution_count": 51,
   "metadata": {},
   "outputs": [
    {
     "data": {
      "text/html": [
       "<div>\n",
       "<style scoped>\n",
       "    .dataframe tbody tr th:only-of-type {\n",
       "        vertical-align: middle;\n",
       "    }\n",
       "\n",
       "    .dataframe tbody tr th {\n",
       "        vertical-align: top;\n",
       "    }\n",
       "\n",
       "    .dataframe thead th {\n",
       "        text-align: right;\n",
       "    }\n",
       "</style>\n",
       "<table border=\"1\" class=\"dataframe\">\n",
       "  <thead>\n",
       "    <tr style=\"text-align: right;\">\n",
       "      <th></th>\n",
       "      <th>timestamp</th>\n",
       "      <th>open</th>\n",
       "      <th>high</th>\n",
       "      <th>low</th>\n",
       "      <th>close</th>\n",
       "      <th>volume</th>\n",
       "    </tr>\n",
       "  </thead>\n",
       "  <tbody>\n",
       "    <tr>\n",
       "      <th>1</th>\n",
       "      <td>2020-04-28</td>\n",
       "      <td>61.2500</td>\n",
       "      <td>61.5200</td>\n",
       "      <td>59.8700</td>\n",
       "      <td>61.0150</td>\n",
       "      <td>171070</td>\n",
       "    </tr>\n",
       "    <tr>\n",
       "      <th>2</th>\n",
       "      <td>2020-04-27</td>\n",
       "      <td>59.3300</td>\n",
       "      <td>60.9200</td>\n",
       "      <td>59.0900</td>\n",
       "      <td>60.0500</td>\n",
       "      <td>286271</td>\n",
       "    </tr>\n",
       "    <tr>\n",
       "      <th>3</th>\n",
       "      <td>2020-04-24</td>\n",
       "      <td>58.5000</td>\n",
       "      <td>59.0900</td>\n",
       "      <td>57.2100</td>\n",
       "      <td>58.8000</td>\n",
       "      <td>747760</td>\n",
       "    </tr>\n",
       "    <tr>\n",
       "      <th>4</th>\n",
       "      <td>2020-04-23</td>\n",
       "      <td>56.7900</td>\n",
       "      <td>58.7100</td>\n",
       "      <td>56.7900</td>\n",
       "      <td>58.0500</td>\n",
       "      <td>585525</td>\n",
       "    </tr>\n",
       "    <tr>\n",
       "      <th>5</th>\n",
       "      <td>2020-04-22</td>\n",
       "      <td>55.7600</td>\n",
       "      <td>57.5150</td>\n",
       "      <td>55.1000</td>\n",
       "      <td>56.8700</td>\n",
       "      <td>583727</td>\n",
       "    </tr>\n",
       "  </tbody>\n",
       "</table>\n",
       "</div>"
      ],
      "text/plain": [
       "0   timestamp     open     high      low    close  volume\n",
       "1  2020-04-28  61.2500  61.5200  59.8700  61.0150  171070\n",
       "2  2020-04-27  59.3300  60.9200  59.0900  60.0500  286271\n",
       "3  2020-04-24  58.5000  59.0900  57.2100  58.8000  747760\n",
       "4  2020-04-23  56.7900  58.7100  56.7900  58.0500  585525\n",
       "5  2020-04-22  55.7600  57.5150  55.1000  56.8700  583727"
      ]
     },
     "execution_count": 51,
     "metadata": {},
     "output_type": "execute_result"
    }
   ],
   "source": [
    "# importing dataset from Alpha Vantage for Dolby Laboratories company using API key: 698TJNK0PAJT4YYP\n",
    "\n",
    "CSV_URL =\"https://www.alphavantage.co/query?function=TIME_SERIES_DAILY&symbol=DLB&apikey=698TJNK0PAJT4YYP&datatype=csv&outputsize=full\"\n",
    "with requests.Session() as s:\n",
    "    download = s.get(CSV_URL)\n",
    "    decoded_content = download.content.decode('utf-8')\n",
    "    cr = csv.reader(decoded_content.splitlines(), delimiter=',')\n",
    "    df = pd.DataFrame(cr)\n",
    "new_header = df.iloc[0] \n",
    "df = df[1:] \n",
    "df.columns = new_header\n",
    "df.head()"
   ]
  },
  {
   "cell_type": "markdown",
   "metadata": {},
   "source": [
    "# 2. Data Preprocessing"
   ]
  },
  {
   "cell_type": "code",
   "execution_count": 52,
   "metadata": {},
   "outputs": [
    {
     "data": {
      "text/plain": [
       "(3824, 6)"
      ]
     },
     "execution_count": 52,
     "metadata": {},
     "output_type": "execute_result"
    }
   ],
   "source": [
    "# check the dimensions of the dataset (row, col)\n",
    "\n",
    "df.shape"
   ]
  },
  {
   "cell_type": "code",
   "execution_count": 53,
   "metadata": {},
   "outputs": [
    {
     "data": {
      "text/plain": [
       "False"
      ]
     },
     "execution_count": 53,
     "metadata": {},
     "output_type": "execute_result"
    }
   ],
   "source": [
    "# check if there is any null value in the dataset\n",
    "\n",
    "df.isnull().any().any()"
   ]
  },
  {
   "cell_type": "code",
   "execution_count": 54,
   "metadata": {},
   "outputs": [
    {
     "data": {
      "text/plain": [
       "False"
      ]
     },
     "execution_count": 54,
     "metadata": {},
     "output_type": "execute_result"
    }
   ],
   "source": [
    "# check if there is any duplicate value in the dataset \n",
    "\n",
    "df.duplicated().any()"
   ]
  },
  {
   "cell_type": "markdown",
   "metadata": {},
   "source": [
    "### Since there is no missing or duplicate values, dataset is clean."
   ]
  },
  {
   "cell_type": "code",
   "execution_count": 55,
   "metadata": {},
   "outputs": [],
   "source": [
    "# add a new column which is the average of high and low price of the stock\n",
    "\n",
    "cols = ['high','low']\n",
    "df['mid_price'] = df[cols].astype(float).mean(axis=1)"
   ]
  },
  {
   "cell_type": "code",
   "execution_count": 56,
   "metadata": {},
   "outputs": [
    {
     "data": {
      "text/html": [
       "<div>\n",
       "<style scoped>\n",
       "    .dataframe tbody tr th:only-of-type {\n",
       "        vertical-align: middle;\n",
       "    }\n",
       "\n",
       "    .dataframe tbody tr th {\n",
       "        vertical-align: top;\n",
       "    }\n",
       "\n",
       "    .dataframe thead th {\n",
       "        text-align: right;\n",
       "    }\n",
       "</style>\n",
       "<table border=\"1\" class=\"dataframe\">\n",
       "  <thead>\n",
       "    <tr style=\"text-align: right;\">\n",
       "      <th></th>\n",
       "      <th>timestamp</th>\n",
       "      <th>open</th>\n",
       "      <th>high</th>\n",
       "      <th>low</th>\n",
       "      <th>close</th>\n",
       "      <th>volume</th>\n",
       "      <th>mid_price</th>\n",
       "    </tr>\n",
       "  </thead>\n",
       "  <tbody>\n",
       "    <tr>\n",
       "      <th>1</th>\n",
       "      <td>2020-04-28</td>\n",
       "      <td>61.2500</td>\n",
       "      <td>61.5200</td>\n",
       "      <td>59.8700</td>\n",
       "      <td>61.0150</td>\n",
       "      <td>171070</td>\n",
       "      <td>60.6950</td>\n",
       "    </tr>\n",
       "    <tr>\n",
       "      <th>2</th>\n",
       "      <td>2020-04-27</td>\n",
       "      <td>59.3300</td>\n",
       "      <td>60.9200</td>\n",
       "      <td>59.0900</td>\n",
       "      <td>60.0500</td>\n",
       "      <td>286271</td>\n",
       "      <td>60.0050</td>\n",
       "    </tr>\n",
       "    <tr>\n",
       "      <th>3</th>\n",
       "      <td>2020-04-24</td>\n",
       "      <td>58.5000</td>\n",
       "      <td>59.0900</td>\n",
       "      <td>57.2100</td>\n",
       "      <td>58.8000</td>\n",
       "      <td>747760</td>\n",
       "      <td>58.1500</td>\n",
       "    </tr>\n",
       "    <tr>\n",
       "      <th>4</th>\n",
       "      <td>2020-04-23</td>\n",
       "      <td>56.7900</td>\n",
       "      <td>58.7100</td>\n",
       "      <td>56.7900</td>\n",
       "      <td>58.0500</td>\n",
       "      <td>585525</td>\n",
       "      <td>57.7500</td>\n",
       "    </tr>\n",
       "    <tr>\n",
       "      <th>5</th>\n",
       "      <td>2020-04-22</td>\n",
       "      <td>55.7600</td>\n",
       "      <td>57.5150</td>\n",
       "      <td>55.1000</td>\n",
       "      <td>56.8700</td>\n",
       "      <td>583727</td>\n",
       "      <td>56.3075</td>\n",
       "    </tr>\n",
       "  </tbody>\n",
       "</table>\n",
       "</div>"
      ],
      "text/plain": [
       "0   timestamp     open     high      low    close  volume  mid_price\n",
       "1  2020-04-28  61.2500  61.5200  59.8700  61.0150  171070    60.6950\n",
       "2  2020-04-27  59.3300  60.9200  59.0900  60.0500  286271    60.0050\n",
       "3  2020-04-24  58.5000  59.0900  57.2100  58.8000  747760    58.1500\n",
       "4  2020-04-23  56.7900  58.7100  56.7900  58.0500  585525    57.7500\n",
       "5  2020-04-22  55.7600  57.5150  55.1000  56.8700  583727    56.3075"
      ]
     },
     "execution_count": 56,
     "metadata": {},
     "output_type": "execute_result"
    }
   ],
   "source": [
    "df.head()"
   ]
  },
  {
   "cell_type": "code",
   "execution_count": 57,
   "metadata": {},
   "outputs": [
    {
     "data": {
      "image/png": "[encoded data removed]",
      "text/plain": [
       "<Figure size 1296x648 with 1 Axes>"
      ]
     },
     "metadata": {
      "needs_background": "light"
     },
     "output_type": "display_data"
    }
   ],
   "source": [
    "# Visualization of the SP500 column of the dataset\n",
    "\n",
    "plt.figure(figsize = (18,9))\n",
    "plt.plot(df['mid_price'])\n",
    "plt.xticks(range(0,df.shape[0],500),df['timestamp'].loc[::500],rotation=45)\n",
    "plt.xlabel('Date',fontsize=18)\n",
    "plt.ylabel('Mid Price',fontsize=18)\n",
    "plt.gca().invert_xaxis()\n",
    "plt.show()"
   ]
  },
  {
   "cell_type": "code",
   "execution_count": 58,
   "metadata": {},
   "outputs": [],
   "source": [
    "# Drop DATE column, since it doesn't add any value for prediction purpose and it is not an int type.\n",
    "\n",
    "df = df.drop(['timestamp'], axis=1)"
   ]
  },
  {
   "cell_type": "code",
   "execution_count": 59,
   "metadata": {},
   "outputs": [],
   "source": [
    "# Convert the dataframe into numpy array.\n",
    "# The dtype will be a lower-common-denominator dtype (implicit upcasting)\n",
    "# Columns(e.g., str/object, int64, float32) will convert into object\n",
    "\n",
    "df = df.to_numpy()"
   ]
  },
  {
   "cell_type": "code",
   "execution_count": 60,
   "metadata": {},
   "outputs": [],
   "source": [
    "# Divide complete dataset sequentially into 80% training and 20% testing dataset.\n",
    "# I have total 3822 rows\n",
    "\n",
    "training_data = df[np.arange(0, int(np.floor(0.8*3822))), :]\n",
    "testing_data = df[np.arange(int(np.floor(0.8*3822)), 3822), :]"
   ]
  },
  {
   "cell_type": "code",
   "execution_count": 61,
   "metadata": {},
   "outputs": [],
   "source": [
    "# Data Scaling\n",
    "# Since I am going to use neural network, it is beneficial to scale the input and output data\n",
    "# I will use rectified linear unit (ReLU) activations which are unbounded on the axis of possible activation values.\n",
    "# For Scaling I will use sklearn’s MinMaxScaler.\n",
    "\n",
    "scale_normal = MinMaxScaler(feature_range=(-1, 1))\n",
    "training_data = scale_normal.fit_transform(training_data)\n",
    "testing_data = scale_normal.transform(testing_data)"
   ]
  },
  {
   "cell_type": "code",
   "execution_count": 62,
   "metadata": {},
   "outputs": [],
   "source": [
    "# Build X and  Y axis, where\n",
    "# X (input) indicates the price of the stock at time 't'\n",
    "# Y (output) indicates the price of the stock at time 't+1'\n",
    "\n",
    "X_train = training_data[:, 1:]\n",
    "Y_train = training_data[:, 0]\n",
    "X_test = testing_data[:, 1:]\n",
    "Y_test = testing_data[:, 0]"
   ]
  },
  {
   "cell_type": "markdown",
   "metadata": {},
   "source": [
    "# Learning of Neural Network model using Tensorflow"
   ]
  },
  {
   "cell_type": "code",
   "execution_count": 63,
   "metadata": {},
   "outputs": [
    {
     "name": "stdout",
     "output_type": "stream",
     "text": [
      "Requirement already satisfied: tensorflow in ./opt/anaconda3/lib/python3.7/site-packages (2.1.0)\n",
      "Requirement already satisfied: tensorboard<2.2.0,>=2.1.0 in ./opt/anaconda3/lib/python3.7/site-packages (from tensorflow) (2.1.1)\n",
      "Requirement already satisfied: termcolor>=1.1.0 in ./opt/anaconda3/lib/python3.7/site-packages (from tensorflow) (1.1.0)\n",
      "Requirement already satisfied: grpcio>=1.8.6 in ./opt/anaconda3/lib/python3.7/site-packages (from tensorflow) (1.28.1)\n",
      "Requirement already satisfied: numpy<2.0,>=1.16.0 in ./opt/anaconda3/lib/python3.7/site-packages (from tensorflow) (1.18.1)\n",
      "Requirement already satisfied: wrapt>=1.11.1 in ./opt/anaconda3/lib/python3.7/site-packages (from tensorflow) (1.11.2)\n",
      "Requirement already satisfied: astor>=0.6.0 in ./opt/anaconda3/lib/python3.7/site-packages (from tensorflow) (0.8.1)\n",
      "Requirement already satisfied: scipy==1.4.1; python_version >= \"3\" in ./opt/anaconda3/lib/python3.7/site-packages (from tensorflow) (1.4.1)\n",
      "Requirement already satisfied: gast==0.2.2 in ./opt/anaconda3/lib/python3.7/site-packages (from tensorflow) (0.2.2)\n",
      "Requirement already satisfied: six>=1.12.0 in ./opt/anaconda3/lib/python3.7/site-packages (from tensorflow) (1.12.0)\n",
      "Requirement already satisfied: tensorflow-estimator<2.2.0,>=2.1.0rc0 in ./opt/anaconda3/lib/python3.7/site-packages (from tensorflow) (2.1.0)\n",
      "Requirement already satisfied: google-pasta>=0.1.6 in ./opt/anaconda3/lib/python3.7/site-packages (from tensorflow) (0.2.0)\n",
      "Requirement already satisfied: keras-applications>=1.0.8 in ./opt/anaconda3/lib/python3.7/site-packages (from tensorflow) (1.0.8)\n",
      "Requirement already satisfied: absl-py>=0.7.0 in ./opt/anaconda3/lib/python3.7/site-packages (from tensorflow) (0.9.0)\n",
      "Requirement already satisfied: opt-einsum>=2.3.2 in ./opt/anaconda3/lib/python3.7/site-packages (from tensorflow) (3.2.1)\n",
      "Requirement already satisfied: wheel>=0.26; python_version >= \"3\" in ./opt/anaconda3/lib/python3.7/site-packages (from tensorflow) (0.34.2)\n",
      "Requirement already satisfied: keras-preprocessing>=1.1.0 in ./opt/anaconda3/lib/python3.7/site-packages (from tensorflow) (1.1.0)\n",
      "Requirement already satisfied: protobuf>=3.8.0 in ./opt/anaconda3/lib/python3.7/site-packages (from tensorflow) (3.11.3)\n",
      "Requirement already satisfied: google-auth-oauthlib<0.5,>=0.4.1 in ./opt/anaconda3/lib/python3.7/site-packages (from tensorboard<2.2.0,>=2.1.0->tensorflow) (0.4.1)\n",
      "Requirement already satisfied: werkzeug>=0.11.15 in ./opt/anaconda3/lib/python3.7/site-packages (from tensorboard<2.2.0,>=2.1.0->tensorflow) (1.0.0)\n",
      "Requirement already satisfied: setuptools>=41.0.0 in ./opt/anaconda3/lib/python3.7/site-packages (from tensorboard<2.2.0,>=2.1.0->tensorflow) (46.0.0.post20200309)\n",
      "Requirement already satisfied: google-auth<2,>=1.6.3 in ./opt/anaconda3/lib/python3.7/site-packages (from tensorboard<2.2.0,>=2.1.0->tensorflow) (1.14.1)\n",
      "Requirement already satisfied: markdown>=2.6.8 in ./opt/anaconda3/lib/python3.7/site-packages (from tensorboard<2.2.0,>=2.1.0->tensorflow) (3.2.1)\n",
      "Requirement already satisfied: requests<3,>=2.21.0 in ./opt/anaconda3/lib/python3.7/site-packages (from tensorboard<2.2.0,>=2.1.0->tensorflow) (2.21.0)\n",
      "Requirement already satisfied: h5py in ./opt/anaconda3/lib/python3.7/site-packages (from keras-applications>=1.0.8->tensorflow) (2.10.0)\n",
      "Requirement already satisfied: requests-oauthlib>=0.7.0 in ./opt/anaconda3/lib/python3.7/site-packages (from google-auth-oauthlib<0.5,>=0.4.1->tensorboard<2.2.0,>=2.1.0->tensorflow) (1.3.0)\n",
      "Requirement already satisfied: pyasn1-modules>=0.2.1 in ./opt/anaconda3/lib/python3.7/site-packages (from google-auth<2,>=1.6.3->tensorboard<2.2.0,>=2.1.0->tensorflow) (0.2.8)\n",
      "Requirement already satisfied: rsa<4.1,>=3.1.4 in ./opt/anaconda3/lib/python3.7/site-packages (from google-auth<2,>=1.6.3->tensorboard<2.2.0,>=2.1.0->tensorflow) (4.0)\n",
      "Requirement already satisfied: cachetools<5.0,>=2.0.0 in ./opt/anaconda3/lib/python3.7/site-packages (from google-auth<2,>=1.6.3->tensorboard<2.2.0,>=2.1.0->tensorflow) (4.1.0)\n",
      "Requirement already satisfied: idna<2.9,>=2.5 in ./opt/anaconda3/lib/python3.7/site-packages (from requests<3,>=2.21.0->tensorboard<2.2.0,>=2.1.0->tensorflow) (2.8)\n",
      "Requirement already satisfied: certifi>=2017.4.17 in ./opt/anaconda3/lib/python3.7/site-packages (from requests<3,>=2.21.0->tensorboard<2.2.0,>=2.1.0->tensorflow) (2019.11.28)\n",
      "Requirement already satisfied: chardet<3.1.0,>=3.0.2 in ./opt/anaconda3/lib/python3.7/site-packages (from requests<3,>=2.21.0->tensorboard<2.2.0,>=2.1.0->tensorflow) (3.0.4)\n",
      "Requirement already satisfied: urllib3<1.25,>=1.21.1 in ./opt/anaconda3/lib/python3.7/site-packages (from requests<3,>=2.21.0->tensorboard<2.2.0,>=2.1.0->tensorflow) (1.24.3)\n",
      "Requirement already satisfied: oauthlib>=3.0.0 in ./opt/anaconda3/lib/python3.7/site-packages (from requests-oauthlib>=0.7.0->google-auth-oauthlib<0.5,>=0.4.1->tensorboard<2.2.0,>=2.1.0->tensorflow) (3.1.0)\n",
      "Requirement already satisfied: pyasn1<0.5.0,>=0.4.6 in ./opt/anaconda3/lib/python3.7/site-packages (from pyasn1-modules>=0.2.1->google-auth<2,>=1.6.3->tensorboard<2.2.0,>=2.1.0->tensorflow) (0.4.8)\n"
     ]
    }
   ],
   "source": [
    "!pip install tensorflow"
   ]
  },
  {
   "cell_type": "code",
   "execution_count": 64,
   "metadata": {},
   "outputs": [],
   "source": [
    "import tensorflow.compat.v1 as tf\n",
    "tf.disable_v2_behavior()"
   ]
  },
  {
   "cell_type": "code",
   "execution_count": 65,
   "metadata": {},
   "outputs": [
    {
     "name": "stdout",
     "output_type": "stream",
     "text": [
      "5\n"
     ]
    }
   ],
   "source": [
    "param = X_train.shape[1]\n",
    "print(param)"
   ]
  },
  {
   "cell_type": "code",
   "execution_count": 66,
   "metadata": {},
   "outputs": [
    {
     "name": "stderr",
     "output_type": "stream",
     "text": [
      "/Users/akshata/opt/anaconda3/lib/python3.7/site-packages/tensorflow_core/python/client/session.py:1752: UserWarning: An interactive session is already active. This can cause out-of-memory errors in some cases. You must explicitly call `InteractiveSession.close()` to release resources held by the other session(s).\n",
      "  warnings.warn('An interactive session is already active. This can '\n"
     ]
    }
   ],
   "source": [
    "# Session starts\n",
    "\n",
    "neural_network_session = tf.InteractiveSession()"
   ]
  },
  {
   "cell_type": "code",
   "execution_count": 67,
   "metadata": {},
   "outputs": [],
   "source": [
    "# X (input) is a 2D matrix and Y (output) is a 1D vector\n",
    "# At this point I am not sure about the number of observation that neural network will take. Hence, given 'None'.\n",
    "\n",
    "X = tf.placeholder(dtype=tf.float32, shape=[None, 5])\n",
    "Y = tf.placeholder(dtype=tf.float32, shape=[None])"
   ]
  },
  {
   "cell_type": "code",
   "execution_count": 68,
   "metadata": {},
   "outputs": [],
   "source": [
    "# Initialize the variables before training of the model starts\n",
    "# I am using tf.variance_scaling_initializer() & tf.zeros_initializer() to initialize the weight and bias respectively\n",
    "\n",
    "weight = tf.variance_scaling_initializer(mode=\"fan_avg\", distribution=\"uniform\", scale=1)\n",
    "bias = tf.zeros_initializer()"
   ]
  },
  {
   "cell_type": "code",
   "execution_count": 69,
   "metadata": {},
   "outputs": [],
   "source": [
    "# In feedforward network, I am considering 1 input, 4 hidden and 1 output layer\n",
    "# input_layer: 5 neurons\n",
    "# first_layer: 16 neurons\n",
    "# second_layer: 8 neurons (half of the 1st layer)\n",
    "# third_layer: 4 neurons (half of the 2nd layer)\n",
    "# fourth_layer: 2 neurons (half of the 3rd layer)\n",
    "# output_layer: 1 neuron\n",
    "\n",
    "# first_layer\n",
    "first_layer_weight = tf.Variable(weight([5, 16]))\n",
    "first_layer_bias = tf.Variable(bias([16]))\n",
    "\n",
    "# second_layer\n",
    "second_layer_weight = tf.Variable(weight([16, 8]))\n",
    "second_layer_bias = tf.Variable(bias([8]))\n",
    "\n",
    "# third_layer\n",
    "third_layer_weight = tf.Variable(weight([8, 4]))\n",
    "third_layer_bias = tf.Variable(bias([4]))\n",
    "\n",
    "# fourth_layer\n",
    "fourth_layer_weight = tf.Variable(weight([4, 2]))\n",
    "fourth_layer_bias = tf.Variable(bias([2]))\n",
    "\n",
    "# output_layer\n",
    "output_layer_weight = tf.Variable(weight([2, 1]))\n",
    "output_layer_bias = tf.Variable(bias([1]))"
   ]
  },
  {
   "cell_type": "code",
   "execution_count": 70,
   "metadata": {},
   "outputs": [],
   "source": [
    "# Matrix Multiplication between different layers of the neural network model\n",
    "\n",
    "first_layer = tf.matmul(X, first_layer_weight)\n",
    "second_layer = tf.matmul(first_layer, second_layer_weight)\n",
    "third_layer = tf.matmul(second_layer, third_layer_weight)\n",
    "fourth_layer = tf.matmul(third_layer, fourth_layer_weight)\n",
    "output_layer = tf.matmul(fourth_layer, output_layer_weight)"
   ]
  },
  {
   "cell_type": "code",
   "execution_count": 71,
   "metadata": {},
   "outputs": [],
   "source": [
    "# Hidden layers are transformed by activation functions and it also introduce non-linearity to the model.\n",
    "# I will use rectified linear unit (ReLU) activations function.\n",
    "\n",
    "first_hidden_layer = tf.nn.relu(tf.add(first_layer, first_layer_bias))\n",
    "second_hidden_layer = tf.nn.relu(tf.add(second_layer, second_layer_bias))\n",
    "third_hidden_layer = tf.nn.relu(tf.add(third_layer, third_layer_bias))\n",
    "fourth_hidden_layer = tf.nn.relu(tf.add(fourth_layer, fourth_layer_bias))"
   ]
  },
  {
   "cell_type": "code",
   "execution_count": 72,
   "metadata": {},
   "outputs": [],
   "source": [
    "# Take the transpose of output_target_layer\n",
    "\n",
    "output_target_layer = tf.transpose(tf.add(output_layer, output_layer_bias))"
   ]
  },
  {
   "cell_type": "code",
   "execution_count": 73,
   "metadata": {},
   "outputs": [],
   "source": [
    "# Cost function\n",
    "# MSE(mean squared error) is the deviation between the predicted and the actual value. \n",
    "\n",
    "mean_squared_error = tf.reduce_mean(tf.squared_difference(output_target_layer, Y))"
   ]
  },
  {
   "cell_type": "code",
   "execution_count": 74,
   "metadata": {},
   "outputs": [],
   "source": [
    "# Optimizer is used to choose weight and bias variables during training in order to minimize the cost function\n",
    "# AdamOptimizer() is the combination of two other popular optimizers AdaGrad and RMSProp.\n",
    "\n",
    "optimizer = tf.train.AdamOptimizer().minimize(mean_squared_error)"
   ]
  },
  {
   "cell_type": "code",
   "execution_count": 75,
   "metadata": {},
   "outputs": [],
   "source": [
    "# Training of the model\n",
    "\n",
    "neural_network_session.run(tf.global_variables_initializer())"
   ]
  },
  {
   "cell_type": "code",
   "execution_count": 76,
   "metadata": {},
   "outputs": [
    {
     "data": {
      "image/png": "[encoded data removed]",
      "text/plain": [
       "<Figure size 432x288 with 1 Axes>"
      ]
     },
     "metadata": {
      "needs_background": "light"
     },
     "output_type": "display_data"
    }
   ],
   "source": [
    "# Setup interactive plot\n",
    "\n",
    "plt.ion()\n",
    "fig = plt.figure()\n",
    "a = fig.add_subplot(111)\n",
    "line1 = a.plot(Y_test)\n",
    "line2 = a.plot(Y_test*0.5)\n",
    "plt.title(\"Blue line shows actual price and orange line shows predicted price.\", y=1.02, fontsize=12);\n",
    "plt.gca().invert_xaxis()\n",
    "plt.show()"
   ]
  },
  {
   "cell_type": "code",
   "execution_count": 77,
   "metadata": {},
   "outputs": [
    {
     "name": "stdout",
     "output_type": "stream",
     "text": [
      "MSE Train:  0.004955619\n",
      "MSE Test:  0.017913701\n"
     ]
    }
   ],
   "source": [
    "# Fit neural network\n",
    "# considering epochs=10 & batch_size = 50\n",
    "\n",
    "mse_train = []\n",
    "mse_test = []\n",
    "for epochs in range(10):\n",
    "    # Shuffle training data\n",
    "    shuffle = np.random.permutation(np.arange(len(Y_train)))\n",
    "    X_train = X_train[shuffle]\n",
    "    Y_train = Y_train[shuffle]\n",
    "    # Minibatch training\n",
    "    for i in range(0, len(Y_train)):\n",
    "        start = i * 50\n",
    "        batchX = X_train[start:start + 50]\n",
    "        batchY = Y_train[start:start + 50]\n",
    "        # Run optimizer with batch\n",
    "        neural_network_session.run(optimizer, feed_dict={X: batchX, Y: batchY})\n",
    "        # Show progress\n",
    "        if np.mod(i, 50) == 0:\n",
    "            # MSE train and test\n",
    "            mse_train.append(neural_network_session.run(mean_squared_error, feed_dict={X: X_train, Y: Y_train}))\n",
    "            mse_test.append(neural_network_session.run(mean_squared_error, feed_dict={X: X_test, Y: Y_test}))\n",
    "            # Prediction\n",
    "            prediction = neural_network_session.run(output_target_layer, feed_dict={X: X_test})\n",
    "print('MSE Train: ', mse_train[-1])\n",
    "print('MSE Test: ', mse_test[-1])"
   ]
  },
  {
   "cell_type": "code",
   "execution_count": 78,
   "metadata": {},
   "outputs": [
    {
     "name": "stdout",
     "output_type": "stream",
     "text": [
      "0.017913701\n"
     ]
    }
   ],
   "source": [
    "# final MSE after Training the model\n",
    "\n",
    "mse_final = neural_network_session.run(mean_squared_error, feed_dict={X: X_test, Y: Y_test})\n",
    "print(mse_final)"
   ]
  },
  {
   "cell_type": "code",
   "execution_count": null,
   "metadata": {},
   "outputs": [],
   "source": []
  }
 ],
 "metadata": {
  "kernelspec": {
   "display_name": "Python 3",
   "language": "python",
   "name": "python3"
  },
  "language_info": {
   "codemirror_mode": {
    "name": "ipython",
    "version": 3
   },
   "file_extension": ".py",
   "mimetype": "text/x-python",
   "name": "python",
   "nbconvert_exporter": "python",
   "pygments_lexer": "ipython3",
   "version": "3.7.6"
  }
 },
 "nbformat": 4,
 "nbformat_minor": 2
}
